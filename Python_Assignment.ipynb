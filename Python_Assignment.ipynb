{
 "cells": [
  {
   "cell_type": "code",
   "execution_count": 1,
   "id": "383bc8c3-6d63-4eee-9930-8cb7bc7f289f",
   "metadata": {
    "scrolled": true
   },
   "outputs": [
    {
     "name": "stdin",
     "output_type": "stream",
     "text": [
      "Enter your full name (first and last name):  Diwash Bhattarai\n"
     ]
    },
    {
     "name": "stdout",
     "output_type": "stream",
     "text": [
      "First Name: Diwash\n",
      "Last Name: Bhattarai\n",
      "Initials: DB\n",
      "Total Characters (excluding spaces): 15\n"
     ]
    }
   ],
   "source": [
    "#  QUN NO - 1.Name Formatter\n",
    "# Ask the user to enter their full name and print:\n",
    "# ○ First name\n",
    "# ○ Last name\n",
    "# ○ Initials\n",
    "# ○ Total number of characters (excluding spaces)\n",
    "\n",
    "full_name = input(\"Enter your full name (first and last name): \")\n",
    "while len(full_name.strip().split()) < 2:                                       # help from ai \n",
    "    full_name = input(\"Please enter your full name (first and last name): \")    # help from ai this 2 lines\n",
    "names = full_name.split()\n",
    "print(\"First Name:\", names[0])\n",
    "print(\"Last Name:\", names[-1])\n",
    "print(\"Initials:\", ''.join(n[0].upper() for n in names))\n",
    "print(\"Total Characters (excluding spaces):\", len(full_name.replace(\" \", \"\")))\n"
   ]
  },
  {
   "cell_type": "code",
   "execution_count": 2,
   "id": "164a1814-cebf-4f58-9027-950cda90aab7",
   "metadata": {
    "scrolled": true
   },
   "outputs": [
    {
     "name": "stdin",
     "output_type": "stream",
     "text": [
      "Enter a sentence:  My name is diwash bhattarai\n"
     ]
    },
    {
     "name": "stdout",
     "output_type": "stream",
     "text": [
      "yM eman si hsawid iarattahb\n"
     ]
    }
   ],
   "source": [
    "#  QUN NO - 2. Reverse Words   Input a sentence and print each word in reverse order:  \"Hello World\" → \"olleH dlroW\"\n",
    "def reverse_words(sentence):\n",
    "    words = sentence.split()\n",
    "    reversed_words = []\n",
    "    for word in words:\n",
    "        reversed_words.append(word[::-1])\n",
    "    reversed_sentence = ' '.join(reversed_words)\n",
    "    print(reversed_sentence)\n",
    "input_sentence = input(\"Enter a sentence: \")\n",
    "reverse_words(input_sentence)"
   ]
  },
  {
   "cell_type": "code",
   "execution_count": 4,
   "id": "e32b066f-534b-43b8-8eaa-52f583783b9c",
   "metadata": {},
   "outputs": [
    {
     "name": "stdin",
     "output_type": "stream",
     "text": [
      "Enter a word:  elle\n"
     ]
    },
    {
     "name": "stdout",
     "output_type": "stream",
     "text": [
      "{input_word} is a palindrome.\n"
     ]
    }
   ],
   "source": [
    "#  QUN NO - 3. Check Palindrome Ask for a word and check whether it’s a palindrome.\n",
    "    \n",
    "def is_palindrome(word):\n",
    "    word = word.lower()\n",
    "    return word == word[::-1]\n",
    "input_word = input(\"Enter a word: \")\n",
    "if is_palindrome(input_word):\n",
    "    print(\"{input_word} is a palindrome.\")\n",
    "else:\n",
    "    print(\"{input_word} is not a palindrome.\")"
   ]
  },
  {
   "cell_type": "code",
   "execution_count": 5,
   "id": "188de198-6bf2-4410-aba6-82f54e95d3f3",
   "metadata": {},
   "outputs": [
    {
     "name": "stdin",
     "output_type": "stream",
     "text": [
      "Enter a favorite food:  cherry\n",
      "Enter a favorite food:  mango\n",
      "Enter a favorite food:  litchi\n",
      "Enter a favorite food:  guava\n",
      "Enter a favorite food:  chiku\n"
     ]
    },
    {
     "name": "stdout",
     "output_type": "stream",
     "text": [
      "Your favorite foods in reverse order:\n",
      "chiku\n",
      "guava\n",
      "litchi\n",
      "mango\n",
      "cherry\n"
     ]
    }
   ],
   "source": [
    "#  QUN NO - 5.  Favorite Foods List  Ask the user to input 5 favorite foods one by one and store them in a list. Then print the list in reverse order.\n",
    "\n",
    "favorite_foods = []\n",
    "for i in range(5):\n",
    "    food = input(\"Enter a favorite food: \")\n",
    "    favorite_foods.append(food)\n",
    "print(\"Your favorite foods in reverse order:\")\n",
    "for food in reversed(favorite_foods):\n",
    "    print(food)"
   ]
  },
  {
   "cell_type": "code",
   "execution_count": 7,
   "id": "b7b4b969-1e11-4d05-aa91-b977d91f90e7",
   "metadata": {},
   "outputs": [
    {
     "name": "stdout",
     "output_type": "stream",
     "text": [
      "Even numbers in the list:\n",
      "20\n",
      "32\n",
      "42\n",
      "686752\n"
     ]
    }
   ],
   "source": [
    "#  QUN NO - 6. List Filter From a list of numbers, print only the even numbers using a for loop.\n",
    "\n",
    "x = [1, 7, 5, 20, 32, 42, 55665, 686752]\n",
    "print(\"Even numbers in the list:\")\n",
    "for num in x:\n",
    "    if num % 2 == 0:\n",
    "        print(num)\n"
   ]
  },
  {
   "cell_type": "code",
   "execution_count": 8,
   "id": "cc009e17-aa0a-4e96-8067-2443988a96f7",
   "metadata": {},
   "outputs": [
    {
     "name": "stdin",
     "output_type": "stream",
     "text": [
      "Enter a number to generate its multiplication table:  7\n"
     ]
    },
    {
     "name": "stdout",
     "output_type": "stream",
     "text": [
      "Multiplication table for 7:\n",
      "7 x 1 = 7\n",
      "7 x 2 = 14\n",
      "7 x 3 = 21\n",
      "7 x 4 = 28\n",
      "7 x 5 = 35\n",
      "7 x 6 = 42\n",
      "7 x 7 = 49\n",
      "7 x 8 = 56\n",
      "7 x 9 = 63\n",
      "7 x 10 = 70\n"
     ]
    }
   ],
   "source": [
    "#  QUN NO - 9. Multiplication Table Generator Ask the user for a number and print its multiplication table up to 10\n",
    "\n",
    "x = int(input(\"Enter a number to generate its multiplication table: \"))\n",
    "print(f\"Multiplication table for {x}:\")   \n",
    "for i in range(1, 11):\n",
    "    print(f\"{x} x {i} = {x * i}\")\n"
   ]
  },
  {
   "cell_type": "code",
   "execution_count": 9,
   "id": "0bc83303-99de-4057-8802-396c66b16b07",
   "metadata": {},
   "outputs": [
    {
     "name": "stdin",
     "output_type": "stream",
     "text": [
      "Enter the password:  python12\n"
     ]
    },
    {
     "name": "stdout",
     "output_type": "stream",
     "text": [
      "Incorrect password.\n"
     ]
    },
    {
     "name": "stdin",
     "output_type": "stream",
     "text": [
      "Enter the password:  python\n"
     ]
    },
    {
     "name": "stdout",
     "output_type": "stream",
     "text": [
      "Incorrect password.\n"
     ]
    },
    {
     "name": "stdin",
     "output_type": "stream",
     "text": [
      "Enter the password:  python\n"
     ]
    },
    {
     "name": "stdout",
     "output_type": "stream",
     "text": [
      "Incorrect password.\n",
      "Access denied. Too many incorrect attempts.\n"
     ]
    }
   ],
   "source": [
    "#  QUN NO - 10.  Password Checker (3 Chances) Set a password. Allow the user to guess it with only 3 attempts.\n",
    "\n",
    "password = \"python123\"\n",
    "attempts = 3\n",
    "\n",
    "for i in range(attempts):\n",
    "    PleaseEnterThe_Password = input(\"Enter the password: \")\n",
    "    if PleaseEnterThe_Password == password:\n",
    "        print(\"Access granted.\")\n",
    "        break\n",
    "    else:\n",
    "        print(\"Incorrect password.\")\n",
    "else:\n",
    "    print(\"Access denied. Too many incorrect attempts.\")\n"
   ]
  },
  {
   "cell_type": "code",
   "execution_count": 10,
   "id": "bc19d72f-1372-49c4-bc10-0ff48747fb78",
   "metadata": {},
   "outputs": [
    {
     "name": "stdout",
     "output_type": "stream",
     "text": [
      "1\n",
      "2\n",
      "Fizz\n",
      "4\n",
      "Buzz\n",
      "Fizz\n",
      "7\n",
      "8\n",
      "Fizz\n",
      "Buzz\n",
      "11\n",
      "Fizz\n",
      "13\n",
      "14\n",
      "Fizz\n",
      "16\n",
      "17\n",
      "Fizz\n",
      "19\n",
      "Buzz\n",
      "Fizz\n",
      "22\n",
      "23\n",
      "Fizz\n",
      "Buzz\n",
      "26\n",
      "Fizz\n",
      "28\n",
      "29\n",
      "Fizz\n",
      "31\n",
      "32\n",
      "Fizz\n",
      "34\n",
      "Buzz\n",
      "Fizz\n",
      "37\n",
      "38\n",
      "Fizz\n",
      "Buzz\n",
      "41\n",
      "Fizz\n",
      "43\n",
      "44\n",
      "Fizz\n",
      "46\n",
      "47\n",
      "Fizz\n",
      "49\n",
      "Buzz\n"
     ]
    }
   ],
   "source": [
    "#  QUN NO - 11.  FizzBuzz Fun Print numbers from 1 to 50:\n",
    "# ● If divisible by 3, print \"Fizz\"\n",
    "# ● If divisible by 5, print \"Buzz\"\n",
    "\n",
    "for i in range(1, 51):\n",
    "    if i % 3 == 0:\n",
    "        print(\"Fizz\")\n",
    "    elif i % 5 == 0:\n",
    "        print(\"Buzz\")\n",
    "    else:\n",
    "        print(i)"
   ]
  },
  {
   "cell_type": "code",
   "execution_count": 24,
   "id": "40e3d1e7-2be5-42e4-8ae7-32bfea70ffb5",
   "metadata": {},
   "outputs": [
    {
     "name": "stdin",
     "output_type": "stream",
     "text": [
      "Enter a number to check if it a prime number or not:  17\n"
     ]
    },
    {
     "name": "stdout",
     "output_type": "stream",
     "text": [
      "17 is a prime number.\n"
     ]
    }
   ],
   "source": [
    "#  QUN NO - 13. Prime Number Checker Ask the user for a number and check if it is prime.\n",
    "\n",
    "\n",
    "x = int(input(\"Enter a number to check if it a prime number or not: \"))\n",
    "\n",
    "def prime(x):\n",
    "    if x <= 1:\n",
    "        return False\n",
    "    for i in range(2, int(x**0.5) + 1):\n",
    "        if x % i == 0:\n",
    "            return False\n",
    "    return True\n",
    "if prime(x):\n",
    "    print(f\"{x} is a prime number.\")\n",
    "else:\n",
    "    print(f\"{x} is not a prime number.\")"
   ]
  },
  {
   "cell_type": "code",
   "execution_count": 13,
   "id": "fb3e65bf-3795-4933-9e24-f5924b390d9e",
   "metadata": {
    "scrolled": true
   },
   "outputs": [
    {
     "name": "stdout",
     "output_type": "stream",
     "text": [
      "Reversed list: [5, 4, 3, 2, 1]\n"
     ]
    }
   ],
   "source": [
    "#  QUN NO - 14 . List Reverser with Loop Take a list and reverse it.\n",
    "\n",
    "my_list = [1, 2, 3, 4, 5]\n",
    "reversed_list = []\n",
    "for item in my_list:\n",
    "    reversed_list = [item] + reversed_list\n",
    "print(\"Reversed list:\", reversed_list)"
   ]
  },
  {
   "cell_type": "code",
   "execution_count": 14,
   "id": "ce25a4fd-f20f-4abb-bf24-4aa72a1da80d",
   "metadata": {},
   "outputs": [
    {
     "name": "stdin",
     "output_type": "stream",
     "text": [
      "Enter a string:  apple\n"
     ]
    },
    {
     "name": "stdout",
     "output_type": "stream",
     "text": [
      "Characters at even indexes:\n",
      "a\n",
      "p\n",
      "e\n"
     ]
    }
   ],
   "source": [
    "#  QUN NO - 15  Even Index Characters Take a string and print characters at even indexes.\n",
    "\n",
    "\n",
    "input_str = input(\"Enter a string: \")\n",
    "print(\"Characters at even indexes:\")\n",
    "for i in range(0, len(input_str), 2):\n",
    "    print(input_str[i])"
   ]
  },
  {
   "cell_type": "code",
   "execution_count": 15,
   "id": "1cb33c73-079f-48f7-a4fa-70220d8d655b",
   "metadata": {},
   "outputs": [
    {
     "name": "stdout",
     "output_type": "stream",
     "text": [
      "Updated list: ['good', 'good', 'good', 'good', 'good']\n"
     ]
    }
   ],
   "source": [
    "#  QUN NO - 16   Find and Replace in List Ask the user for a word list and replace all occurrences of \"bad\" with \"good\".\n",
    "\n",
    "name = ['bad', 'good', 'bad', 'bad', 'good']\n",
    "for i in range(len(name)):\n",
    "    if name[i] == 'bad':\n",
    "        name[i] = 'good'\n",
    "\n",
    "print(\"Updated list:\", name)\n"
   ]
  },
  {
   "cell_type": "code",
   "execution_count": 16,
   "id": "241cc3b3-8176-48a4-94c8-cb3fc03375e0",
   "metadata": {},
   "outputs": [
    {
     "name": "stdin",
     "output_type": "stream",
     "text": [
      "Enter the number of rows for the pyramid:  9\n"
     ]
    },
    {
     "name": "stdout",
     "output_type": "stream",
     "text": [
      "        *\n",
      "       ***\n",
      "      *****\n",
      "     *******\n",
      "    *********\n",
      "   ***********\n",
      "  *************\n",
      " ***************\n",
      "*****************\n"
     ]
    }
   ],
   "source": [
    "#  QUN NO - 17. Pyramid Pattern Input number n, print a pyramid of * with n rows.\n",
    "\n",
    "x = int(input(\"Enter the number of rows for the pyramid: \"))\n",
    "for i in range(1, x + 1):\n",
    "    print(' ' * (x - i) + '*' * (2 * i - 1))"
   ]
  },
  {
   "cell_type": "code",
   "execution_count": 17,
   "id": "6c3267e4-686e-49a8-87b8-7b25753e1ec0",
   "metadata": {},
   "outputs": [
    {
     "name": "stdin",
     "output_type": "stream",
     "text": [
      "Enter a sentence:  diwash bhattarai is my name\n"
     ]
    },
    {
     "name": "stdout",
     "output_type": "stream",
     "text": [
      "Words in the sentence:\n",
      "diwash\n",
      "bhattarai\n",
      "is\n",
      "my\n",
      "name\n"
     ]
    }
   ],
   "source": [
    "#  QUN NO - 21. Split and Store Words Input a sentence, split it into words, and store them in a list. Print each word on a new line.\n",
    "\n",
    "x = input(\"Enter a sentence: \")\n",
    "words = x.split()\n",
    "print(\"Words in the sentence:\")\n",
    "for word in words:\n",
    "    print(word)\n"
   ]
  },
  {
   "cell_type": "code",
   "execution_count": null,
   "id": "9db9c13d-5699-41f0-b66f-330be1ab7817",
   "metadata": {},
   "outputs": [],
   "source": []
  }
 ],
 "metadata": {
  "kernelspec": {
   "display_name": "Python [conda env:base] *",
   "language": "python",
   "name": "conda-base-py"
  },
  "language_info": {
   "codemirror_mode": {
    "name": "ipython",
    "version": 3
   },
   "file_extension": ".py",
   "mimetype": "text/x-python",
   "name": "python",
   "nbconvert_exporter": "python",
   "pygments_lexer": "ipython3",
   "version": "3.13.5"
  }
 },
 "nbformat": 4,
 "nbformat_minor": 5
}
